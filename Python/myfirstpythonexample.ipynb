{
 "cells": [
  {
   "cell_type": "markdown",
   "id": "cad0bd92",
   "metadata": {},
   "source": [
    "lets create a student data in python"
   ]
  },
  {
   "cell_type": "code",
   "execution_count": 6,
   "id": "adbc47f8",
   "metadata": {},
   "outputs": [
    {
     "name": "stdout",
     "output_type": "stream",
     "text": [
      "alice\n"
     ]
    }
   ],
   "source": [
    "name = \"alice\"\n",
    "age = 18\n",
    "GPA = 3.78\n",
    "plays_volleyball = True\n",
    "\n",
    "print(name)"
   ]
  },
  {
   "cell_type": "code",
   "execution_count": 7,
   "id": "7418beb5",
   "metadata": {},
   "outputs": [
    {
     "name": "stdout",
     "output_type": "stream",
     "text": [
      "alice 18 3.78 True\n"
     ]
    }
   ],
   "source": [
    "print(name, age, GPA, plays_volleyball)"
   ]
  },
  {
   "cell_type": "code",
   "execution_count": 8,
   "id": "ba5ac9c6",
   "metadata": {},
   "outputs": [
    {
     "name": "stdout",
     "output_type": "stream",
     "text": [
      "alice 18 3.8499999999999996 True\n"
     ]
    }
   ],
   "source": [
    "GPA = GPA + 0.07\n",
    "\n",
    "print(name, age, GPA, plays_volleyball)"
   ]
  },
  {
   "cell_type": "markdown",
   "id": "b4f474b9",
   "metadata": {},
   "source": [
    "lets  try and print the sudent information in a more meaningful manner\n"
   ]
  },
  {
   "cell_type": "code",
   "execution_count": 10,
   "id": "85671baa",
   "metadata": {},
   "outputs": [
    {
     "name": "stdout",
     "output_type": "stream",
     "text": [
      "The student name is alice and is 18 years old \n"
     ]
    }
   ],
   "source": [
    "print(f\"The student name is {name} and is {age} years old \")"
   ]
  },
  {
   "cell_type": "markdown",
   "id": "0761b231",
   "metadata": {},
   "source": [
    "lets calculate alice age in 15 years\n"
   ]
  },
  {
   "cell_type": "code",
   "execution_count": 11,
   "id": "0468daab",
   "metadata": {},
   "outputs": [
    {
     "name": "stdout",
     "output_type": "stream",
     "text": [
      "The student name is alice and will be 33 years old after 15 years\n"
     ]
    }
   ],
   "source": [
    "age = age + 15\n",
    "print(f\"The student name is {name} and will be {age} years old after 15 years\")"
   ]
  }
 ],
 "metadata": {
  "kernelspec": {
   "display_name": ".venv",
   "language": "python",
   "name": "python3"
  },
  "language_info": {
   "codemirror_mode": {
    "name": "ipython",
    "version": 3
   },
   "file_extension": ".py",
   "mimetype": "text/x-python",
   "name": "python",
   "nbconvert_exporter": "python",
   "pygments_lexer": "ipython3",
   "version": "3.13.5"
  }
 },
 "nbformat": 4,
 "nbformat_minor": 5
}
