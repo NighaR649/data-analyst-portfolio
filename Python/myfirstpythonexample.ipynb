{
 "cells": [
  {
   "cell_type": "markdown",
   "id": "cad0bd92",
   "metadata": {},
   "source": [
    "lets create a student data in python"
   ]
  },
  {
   "cell_type": "code",
   "execution_count": 6,
   "id": "adbc47f8",
   "metadata": {},
   "outputs": [
    {
     "name": "stdout",
     "output_type": "stream",
     "text": [
      "alice\n"
     ]
    }
   ],
   "source": [
    "name = \"alice\"\n",
    "age = 18\n",
    "GPA = 3.78\n",
    "plays_volleyball = True\n",
    "\n",
    "print(name)"
   ]
  },
  {
   "cell_type": "code",
   "execution_count": 7,
   "id": "7418beb5",
   "metadata": {},
   "outputs": [
    {
     "name": "stdout",
     "output_type": "stream",
     "text": [
      "alice 18 3.78 True\n"
     ]
    }
   ],
   "source": [
    "print(name, age, GPA, plays_volleyball)"
   ]
  },
  {
   "cell_type": "code",
   "execution_count": 8,
   "id": "ba5ac9c6",
   "metadata": {},
   "outputs": [
    {
     "name": "stdout",
     "output_type": "stream",
     "text": [
      "alice 18 3.8499999999999996 True\n"
     ]
    }
   ],
   "source": [
    "GPA = GPA + 0.07\n",
    "\n",
    "print(name, age, GPA, plays_volleyball)"
   ]
  },
  {
   "cell_type": "markdown",
   "id": "b4f474b9",
   "metadata": {},
   "source": [
    "lets  try and print the sudent information in a more meaningful manner\n"
   ]
  },
  {
   "cell_type": "code",
   "execution_count": 10,
   "id": "85671baa",
   "metadata": {},
   "outputs": [
    {
     "name": "stdout",
     "output_type": "stream",
     "text": [
      "The student name is alice and is 18 years old \n"
     ]
    }
   ],
   "source": [
    "print(f\"The student name is {name} and is {age} years old \")"
   ]
  },
  {
   "cell_type": "markdown",
   "id": "0761b231",
   "metadata": {},
   "source": [
    "lets calculate alice age in 15 years\n"
   ]
  },
  {
   "cell_type": "code",
   "execution_count": 12,
   "id": "0468daab",
   "metadata": {},
   "outputs": [
    {
     "name": "stdout",
     "output_type": "stream",
     "text": [
      "The student name is alice and will be 48 years old after 15 years\n"
     ]
    }
   ],
   "source": [
    "age = age + 15\n",
    "print(f\"The student name is {name} and will be {age} years old after 15 years\")"
   ]
  },
  {
   "cell_type": "code",
   "execution_count": 14,
   "id": "6466ea47",
   "metadata": {},
   "outputs": [
    {
     "data": {
      "text/plain": [
       "'volleyball'"
      ]
     },
     "execution_count": 14,
     "metadata": {},
     "output_type": "execute_result"
    }
   ],
   "source": [
    "sports = [\"volleyball\",\"netball\",\"touch rugby\",\"cross country\" ]\n",
    "sports[0]"
   ]
  },
  {
   "cell_type": "code",
   "execution_count": 15,
   "id": "2855f607",
   "metadata": {},
   "outputs": [
    {
     "name": "stdout",
     "output_type": "stream",
     "text": [
      "Alice is currently playing  ['volleyball', 'netball', 'touch rugby', 'cross country', 'cricket']\n"
     ]
    }
   ],
   "source": [
    "sports.append(\"cricket\")\n",
    "\n",
    "print(\"Alice is currently playing \", sports)"
   ]
  },
  {
   "cell_type": "code",
   "execution_count": 16,
   "id": "b88b489c",
   "metadata": {},
   "outputs": [
    {
     "data": {
      "text/plain": [
       "['volleyball', 'netball', 'touch rugby']"
      ]
     },
     "execution_count": 16,
     "metadata": {},
     "output_type": "execute_result"
    }
   ],
   "source": [
    "sports[0:3]"
   ]
  },
  {
   "cell_type": "markdown",
   "id": "efec8126",
   "metadata": {},
   "source": [
    "lets see the **last 3 sports** Alice is playing"
   ]
  },
  {
   "cell_type": "code",
   "execution_count": 18,
   "id": "195f7e9c",
   "metadata": {},
   "outputs": [
    {
     "data": {
      "text/plain": [
       "['touch rugby', 'cross country', 'cricket']"
      ]
     },
     "execution_count": 18,
     "metadata": {},
     "output_type": "execute_result"
    }
   ],
   "source": [
    "sports[-3:]"
   ]
  },
  {
   "cell_type": "code",
   "execution_count": 19,
   "id": "62a1173e",
   "metadata": {},
   "outputs": [
    {
     "data": {
      "text/plain": [
       "['touch rugby', 'cross country', 'cricket']"
      ]
     },
     "execution_count": 19,
     "metadata": {},
     "output_type": "execute_result"
    }
   ],
   "source": [
    "sports[2:]"
   ]
  },
  {
   "cell_type": "markdown",
   "id": "9c90764a",
   "metadata": {},
   "source": [
    " ## Calculating Letter grade\n",
    " - 2 or under D\n",
    " - 3 or under C\n",
    " - 3.8 or under B\n",
    " - Above 3.8 A"
   ]
  },
  {
   "cell_type": "code",
   "execution_count": 24,
   "id": "8d1fe7f1",
   "metadata": {},
   "outputs": [
    {
     "name": "stdout",
     "output_type": "stream",
     "text": [
      "students letter grade is C\n"
     ]
    }
   ],
   "source": [
    "student_gpa = float(input(\"What is your GPA\"))\n",
    "\n",
    "if student_gpa > 3.8:\n",
    "    letter_grade = \"A\"\n",
    "elif student_gpa > 3:\n",
    "    letter_grade = \"B\" \n",
    "elif student_gpa > 2:\n",
    "    letter_grade = \"C\" \n",
    "else:\n",
    "    letter_grade = \"D\"\n",
    "\n",
    "print(f\"students letter grade is {letter_grade}\")    \n",
    "        \n",
    "\n",
    "   "
   ]
  }
 ],
 "metadata": {
  "kernelspec": {
   "display_name": ".venv",
   "language": "python",
   "name": "python3"
  },
  "language_info": {
   "codemirror_mode": {
    "name": "ipython",
    "version": 3
   },
   "file_extension": ".py",
   "mimetype": "text/x-python",
   "name": "python",
   "nbconvert_exporter": "python",
   "pygments_lexer": "ipython3",
   "version": "3.13.5"
  }
 },
 "nbformat": 4,
 "nbformat_minor": 5
}
